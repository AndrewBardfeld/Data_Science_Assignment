{
 "cells": [
  {
   "cell_type": "markdown",
   "id": "046d7de5-2485-40c2-b031-925b1080fa91",
   "metadata": {},
   "source": [
    "# Data Science Tools and Ecosystem"
   ]
  },
  {
   "cell_type": "markdown",
   "id": "b49e1b98-1ead-464e-a553-917241cdd8f2",
   "metadata": {},
   "source": [
    "In this notebook, Data Science Tools and Ecosystem are summarized."
   ]
  },
  {
   "cell_type": "markdown",
   "id": "d7ba900b-4c94-4542-9ff3-61f525e132a2",
   "metadata": {},
   "source": [
    "**Objectives**\n",
    "\n",
    "* Create Markdown Cells\n",
    "* Format the content of Markdown cells\n",
    "* Add ordered and unordered list in Markdown cells.\n",
    "* List popular languages for Data Science\n",
    "* Create simple calculation in Codes cells."
   ]
  },
  {
   "cell_type": "markdown",
   "id": "5a3804b7-c923-4460-945c-eacecf3b6ad2",
   "metadata": {},
   "source": [
    "Some of the popular languages that Data Scientists use are:\n",
    "1. Python\n",
    "2. R\n",
    "3. SQL\n",
    "4. Java"
   ]
  },
  {
   "cell_type": "markdown",
   "id": "eda1ba9b-61b8-4e0c-982d-16b60df83896",
   "metadata": {},
   "source": [
    "Some of the commonly used libraries used by Data Scientists include:\n",
    "1. NumPy\n",
    "2. Pandas\n",
    "3. Matplotlib\n",
    "4. Scikit\n",
    "5. TensorFlow\n",
    "6. Ggplot2\n",
    "7. Keras"
   ]
  },
  {
   "cell_type": "markdown",
   "id": "3eec56b1-b820-4426-9678-ac53a18141af",
   "metadata": {},
   "source": [
    "| Data Science Tools   |\n",
    "|----------------------|\n",
    "| Anaconda             |\n",
    "| Jupyter Notebooks    |\n",
    "| R Studio             |\n",
    "| Spyder               |\n",
    "| Zeppelin             |"
   ]
  },
  {
   "cell_type": "markdown",
   "id": "8979878c-ed83-4cce-8fdf-ffaf9ce49dd3",
   "metadata": {},
   "source": [
    "### Below are a few examples of evaluating arithmetic expressions in Python\n"
   ]
  },
  {
   "cell_type": "code",
   "execution_count": 5,
   "id": "2878d383-1168-483c-bee0-00a7ab29ae7b",
   "metadata": {},
   "outputs": [
    {
     "data": {
      "text/plain": [
       "17"
      ]
     },
     "execution_count": 5,
     "metadata": {},
     "output_type": "execute_result"
    }
   ],
   "source": [
    "# This a simple arithmetic expression to mutiply then add integers\n",
    "(3*4)+5"
   ]
  },
  {
   "cell_type": "code",
   "execution_count": 6,
   "id": "a83945ba-30ab-419d-9931-520f13020be4",
   "metadata": {},
   "outputs": [
    {
     "data": {
      "text/plain": [
       "3.3333333333333335"
      ]
     },
     "execution_count": 6,
     "metadata": {},
     "output_type": "execute_result"
    }
   ],
   "source": [
    "# This will convert 200 minutes to hours by diving by 60\n",
    "200 / 60"
   ]
  },
  {
   "cell_type": "markdown",
   "id": "5d505e8a-3811-4f36-bab7-2bf7298cbed8",
   "metadata": {},
   "source": [
    "## Author(s)\n",
    "Andrias"
   ]
  },
  {
   "cell_type": "code",
   "execution_count": null,
   "id": "db059be9-c549-45c3-8ab1-97c366972cdc",
   "metadata": {},
   "outputs": [],
   "source": []
  }
 ],
 "metadata": {
  "kernelspec": {
   "display_name": "Python [conda env:base] *",
   "language": "python",
   "name": "conda-base-py"
  },
  "language_info": {
   "codemirror_mode": {
    "name": "ipython",
    "version": 3
   },
   "file_extension": ".py",
   "mimetype": "text/x-python",
   "name": "python",
   "nbconvert_exporter": "python",
   "pygments_lexer": "ipython3",
   "version": "3.13.5"
  }
 },
 "nbformat": 4,
 "nbformat_minor": 5
}
